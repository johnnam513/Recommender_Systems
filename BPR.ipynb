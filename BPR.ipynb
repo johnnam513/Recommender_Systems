{
 "cells": [
  {
   "cell_type": "code",
   "execution_count": 1,
   "metadata": {},
   "outputs": [],
   "source": [
    "import numpy as np\n",
    "import pandas as pd\n",
    "from matplotlib import pyplot as plt"
   ]
  },
  {
   "cell_type": "code",
   "execution_count": 2,
   "metadata": {},
   "outputs": [],
   "source": [
    "# Import data\n",
    "\n",
    "# Total Data\n",
    "df_total=pd.read_csv('./u.data',sep='\\t',header=None,engine='python')\n",
    "\n",
    "# Training Data\n",
    "df_train=pd.read_csv('./ua.base',sep='\\t',header=None,engine='python')\n",
    "\n",
    "# Test Data\n",
    "df_test=pd.read_csv('./ua.test',sep='\\t',header=None,engine='python')"
   ]
  },
  {
   "cell_type": "code",
   "execution_count": 3,
   "metadata": {},
   "outputs": [],
   "source": [
    "num_user=943\n",
    "num_item=1682"
   ]
  },
  {
   "cell_type": "code",
   "execution_count": 4,
   "metadata": {},
   "outputs": [],
   "source": [
    "# user-item matrix\n",
    "def rating_matrix(df):\n",
    "    R=np.zeros((num_user,num_item))\n",
    "    df.columns=['user_id','item_id','rating','timestamp']\n",
    "    for index in range(len(df)):\n",
    "        u=df['user_id'][index]-1\n",
    "        i=df['item_id'][index]-1\n",
    "        R[u,i]=df['rating'][index]\n",
    "    return R"
   ]
  },
  {
   "cell_type": "code",
   "execution_count": 5,
   "metadata": {},
   "outputs": [],
   "source": [
    "# preference matrix\n",
    "def preference_matrix(R):\n",
    "    P=np.zeros((num_user,num_item))\n",
    "    for i in range(num_user):\n",
    "        for j in range(num_item):\n",
    "            if R[i,j]>0:\n",
    "                P[i,j]=1\n",
    "    return P"
   ]
  },
  {
   "cell_type": "code",
   "execution_count": 7,
   "metadata": {},
   "outputs": [],
   "source": [
    "# Transform dataframe to matrix\n",
    "R_train=rating_matrix(df_train) # Training Data\n",
    "P_train=preference_matrix(R_train) # Training Data\n",
    "\n",
    "R_test=rating_matrix(df_test) # Test Data\n",
    "P_test=preference_matrix(R_test) # Test Data\n",
    "\n",
    "R_total=rating_matrix(df_total) # Total Data\n",
    "P_total=preference_matrix(R_total) # Total Data"
   ]
  },
  {
   "cell_type": "code",
   "execution_count": 8,
   "metadata": {},
   "outputs": [],
   "source": [
    "# Define set E(u) for evaluation\n",
    "def E(u):\n",
    "    E=[(i,j) for i in range(num_item) for j in range(num_item) if (P_test[u,i]!=0)&(P_total[u,j]==0)]\n",
    "    return E"
   ]
  },
  {
   "cell_type": "code",
   "execution_count": 17,
   "metadata": {},
   "outputs": [],
   "source": [
    "# save set E\n",
    "E_set=[]\n",
    "\n",
    "for u in range(num_user):\n",
    "    E_set.append(E(u))"
   ]
  },
  {
   "cell_type": "code",
   "execution_count": 18,
   "metadata": {},
   "outputs": [],
   "source": [
    "def AUC(P):\n",
    "    sum=0\n",
    "    for u in range(num_user):\n",
    "        in_sum=0\n",
    "        for i,j in E_set[u]:\n",
    "            if P[u,i]>P[u,j]:\n",
    "                in_sum+=1\n",
    "        sum+=in_sum/len(E_set[u])\n",
    "    return sum/num_user        "
   ]
  },
  {
   "cell_type": "code",
   "execution_count": 19,
   "metadata": {},
   "outputs": [],
   "source": [
    "# Trainig indexes\n",
    "samples=[(u,i,j) for u in range(num_user) \n",
    "         for i in range(num_item) \n",
    "         for j in range(num_item) \n",
    "         if (P_train[u,i]==1)&(P_train[u,j]==0)]"
   ]
  },
  {
   "cell_type": "code",
   "execution_count": 70,
   "metadata": {},
   "outputs": [],
   "source": [
    "# initial values\n",
    "auc_bpr=[]\n",
    "K=30 # number of latent factors\n",
    "P=np.random.random_sample((num_user,K))/K # user vector\n",
    "Q=np.random.random_sample((num_item,K))/K # item vector"
   ]
  },
  {
   "cell_type": "code",
   "execution_count": 71,
   "metadata": {},
   "outputs": [],
   "source": [
    "from math import exp"
   ]
  },
  {
   "cell_type": "code",
   "execution_count": 72,
   "metadata": {},
   "outputs": [],
   "source": [
    "# training procedure\n",
    "for epoch in range(10):\n",
    "    for u,i,j in samples:\n",
    "        r=P[u,:]@Q[i,:].T-P[u,:]@Q[j,:].T\n",
    "        if r<=705:\n",
    "            loss=1.0/(1.0+exp(r))\n",
    "        else:\n",
    "            loss=0\n",
    "        P[u,:]+=0.05*(loss*(Q[i,:]-Q[j,:])-0.0025*P[u,:])\n",
    "        Q[i,:]+=0.05*(loss*P[u,:]-0.0025*Q[i,:])\n",
    "        Q[j,:]+=0.05*(-loss*P[u,:]-0.00025*Q[j,:])\n",
    "    auc_bpr.append(AUC(P@Q.T))"
   ]
  },
  {
   "cell_type": "code",
   "execution_count": 73,
   "metadata": {},
   "outputs": [
    {
     "name": "stdout",
     "output_type": "stream",
     "text": [
      "AUC of BPR:  0.5807137815897748\n"
     ]
    }
   ],
   "source": [
    "print('AUC of BPR: ',AUC(P@Q.T))"
   ]
  },
  {
   "cell_type": "code",
   "execution_count": 74,
   "metadata": {},
   "outputs": [
    {
     "data": {
      "image/png": "[encoded data removed]",
      "text/plain": [
       "<Figure size 432x288 with 1 Axes>"
      ]
     },
     "metadata": {
      "needs_background": "light"
     },
     "output_type": "display_data"
    }
   ],
   "source": [
    "# plot\n",
    "epoch=[i for i in range(10)]\n",
    "plt.plot(epoch,auc_bpr,'r') # AUC plot for BPR\n",
    "plt.xlabel('epoch')\n",
    "plt.ylabel('auc')\n",
    "plt.title('BPR')\n",
    "plt.show()"
   ]
  }
 ],
 "metadata": {
  "kernelspec": {
   "display_name": "Python 3",
   "language": "python",
   "name": "python3"
  },
  "language_info": {
   "codemirror_mode": {
    "name": "ipython",
    "version": 3
   },
   "file_extension": ".py",
   "mimetype": "text/x-python",
   "name": "python",
   "nbconvert_exporter": "python",
   "pygments_lexer": "ipython3",
   "version": "3.8.5"
  }
 },
 "nbformat": 4,
 "nbformat_minor": 4
}
