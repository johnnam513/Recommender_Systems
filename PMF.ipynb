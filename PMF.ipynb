{
 "cells": [
  {
   "cell_type": "markdown",
   "metadata": {},
   "source": [
    "## PMF"
   ]
  },
  {
   "cell_type": "code",
   "execution_count": 1,
   "metadata": {},
   "outputs": [],
   "source": [
    "import numpy as np\n",
    "import pandas as pd\n",
    "from matplotlib import pyplot as plt"
   ]
  },
  {
   "cell_type": "code",
   "execution_count": 2,
   "metadata": {},
   "outputs": [],
   "source": [
    "# Import data\n",
    "\n",
    "# Training Data\n",
    "df_train=pd.read_csv('./ua.base',sep='\\t',header=None,engine='python')\n",
    "\n",
    "# Test Data\n",
    "df_test=pd.read_csv('./ua.test',sep='\\t',header=None,engine='python')"
   ]
  },
  {
   "cell_type": "code",
   "execution_count": 3,
   "metadata": {},
   "outputs": [],
   "source": [
    "num_user=943\n",
    "num_item=1682"
   ]
  },
  {
   "cell_type": "code",
   "execution_count": 4,
   "metadata": {},
   "outputs": [],
   "source": [
    "# user-item matrix\n",
    "def rating_matrix(df):\n",
    "    R=np.zeros((num_user,num_item))\n",
    "    df.columns=['user_id','item_id','rating','timestamp']\n",
    "    for index in range(len(df)):\n",
    "        u=df['user_id'][index]-1\n",
    "        i=df['item_id'][index]-1\n",
    "        R[u,i]=df['rating'][index]\n",
    "    return R"
   ]
  },
  {
   "cell_type": "code",
   "execution_count": 5,
   "metadata": {},
   "outputs": [],
   "source": [
    "# evaluation using RMSE\n",
    "# Test Set에서 rating이 이루어진 항목들에 대해 rmse 계산\n",
    "def rmse(A,B):\n",
    "    num_rating=0\n",
    "    rmse=0\n",
    "    for i in range(num_user):\n",
    "        for j in range(num_item):\n",
    "            if A[i,j]>0:\n",
    "                rmse+=(A[i,j]-B[i,j])**2\n",
    "                num_rating+=1\n",
    "    return (rmse/num_rating)**(0.5)"
   ]
  },
  {
   "cell_type": "code",
   "execution_count": 6,
   "metadata": {},
   "outputs": [],
   "source": [
    "# Transform dataframe to user-item matrix\n",
    "R_train=rating_matrix(df_train) # Training Data\n",
    "R_test=rating_matrix(df_test) # Test Data"
   ]
  },
  {
   "cell_type": "code",
   "execution_count": 7,
   "metadata": {},
   "outputs": [],
   "source": [
    "# user vector in constrained PMF\n",
    "def U(i):\n",
    "    numerator=0\n",
    "    denominator=0\n",
    "    for m,k,r in samples:\n",
    "        denominator+=1\n",
    "        numerator+=W[k,:]\n",
    "    return Y[i,:]+numerator/denominator"
   ]
  },
  {
   "cell_type": "code",
   "execution_count": 8,
   "metadata": {},
   "outputs": [],
   "source": [
    "# rating\n",
    "def rating(i,j):\n",
    "    return U(i)@Q[j,:].T"
   ]
  },
  {
   "cell_type": "code",
   "execution_count": 12,
   "metadata": {},
   "outputs": [],
   "source": [
    "# initial values\n",
    "rmse_pmf=[]\n",
    "K=30\n",
    "Y=np.random.normal(scale=1.0/K,size=(num_user,K))\n",
    "Q=np.random.normal(scale=1.0/K,size=(num_item,K))\n",
    "W=np.random.normal(scale=1.0/K,size=(num_item,K))"
   ]
  },
  {
   "cell_type": "code",
   "execution_count": 13,
   "metadata": {},
   "outputs": [],
   "source": [
    "# sample where rating is given in training data\n",
    "samples=[(i,j,R_train[i,j]) for i in range(num_user) for j in range(num_item) if R_train[i,j]>0]"
   ]
  },
  {
   "cell_type": "code",
   "execution_count": 19,
   "metadata": {},
   "outputs": [],
   "source": [
    "# training procedure of constrained PMF\n",
    "for epoch in range(10):\n",
    "    for i,j,r in samples:\n",
    "        prediction=rating(i,j)\n",
    "        e=r-prediction\n",
    "        Y[i,:]+=0.002*(e*Q[j,:]-0.002*Y[i,:]) # Y vector\n",
    "        Q[j,:]+=0.002*(e*U(i)-0.002*Q[j,:]) # Item vector\n",
    "        W[j,:]+=0.002*(e/len(samples)*Q[j,:]-0.002*W[j,:]) # W vector\n",
    "\n",
    "    U_mat=np.random.normal(scale=1.0/K,size=(num_user,K)) # User vector\n",
    "    for k in range(num_user):\n",
    "        U_mat[k,:]=U(k)\n",
    "    R_result=U_mat@Q.T\n",
    "    rmse_pmf.append(rmse(R_test,R_result))"
   ]
  },
  {
   "cell_type": "code",
   "execution_count": 21,
   "metadata": {},
   "outputs": [
    {
     "data": {
      "image/png": "[encoded data removed]",
      "text/plain": [
       "<Figure size 432x288 with 1 Axes>"
      ]
     },
     "metadata": {
      "needs_background": "light"
     },
     "output_type": "display_data"
    }
   ],
   "source": [
    "# plot\n",
    "epoch=[i for i in range(18)]\n",
    "plt.plot(epoch,rmse_pmf,'b') # rmse plot for constrained PMF\n",
    "plt.xlabel('epoch')\n",
    "plt.ylabel('rsme')\n",
    "plt.legend(['constrained PMF'])\n",
    "plt.title('PMF')\n",
    "plt.show()"
   ]
  }
 ],
 "metadata": {
  "kernelspec": {
   "display_name": "Python 3",
   "language": "python",
   "name": "python3"
  },
  "language_info": {
   "codemirror_mode": {
    "name": "ipython",
    "version": 3
   },
   "file_extension": ".py",
   "mimetype": "text/x-python",
   "name": "python",
   "nbconvert_exporter": "python",
   "pygments_lexer": "ipython3",
   "version": "3.8.5"
  }
 },
 "nbformat": 4,
 "nbformat_minor": 4
}
