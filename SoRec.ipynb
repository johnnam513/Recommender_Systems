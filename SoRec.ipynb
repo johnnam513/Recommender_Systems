{
 "cells": [
  {
   "cell_type": "markdown",
   "metadata": {},
   "source": [
    "## SoRec"
   ]
  },
  {
   "cell_type": "code",
   "execution_count": 1,
   "metadata": {},
   "outputs": [],
   "source": [
    "import numpy as np"
   ]
  },
  {
   "cell_type": "code",
   "execution_count": 2,
   "metadata": {},
   "outputs": [],
   "source": [
    "# toy data\n",
    "\n",
    "G=np.array([[0.0,0.0,0.0,0.0,0.0,0.0],\n",
    "            [0.0,0.0,0.0,1.0,0.0,0.8],\n",
    "            [0.8,0.0,0.0,0.0,0.0,0.0],\n",
    "            [0.8,1.0,0.0,0.0,0.6,0.0],\n",
    "            [0.0,0.0,0.4,0.0,0.0,0.8],\n",
    "            [0.0,0.0,0.0,0.0,0.0,0.0]])\n",
    "\n",
    "R=np.array([[5.0,2.0,0.0,3.0,0.0,4.0,0.0,0.0],\n",
    "            [4.0,3.0,0.0,0.0,5.0,0.0,0.0,0.0],\n",
    "            [4.0,0.0,2.0,0.0,0.0,0.0,2.0,4.0],\n",
    "            [0.0,0.0,0.0,0.0,0.0,0.0,0.0,0.0],\n",
    "            [5.0,1.0,2.0,0.0,4.0,3.0,0.0,0.0],\n",
    "            [4.0,3.0,0.0,2.0,4.0,0.0,3.0,5.0]])"
   ]
  },
  {
   "cell_type": "code",
   "execution_count": 3,
   "metadata": {},
   "outputs": [],
   "source": [
    "num_user=6\n",
    "num_item=8\n",
    "dim=5"
   ]
  },
  {
   "cell_type": "code",
   "execution_count": 4,
   "metadata": {},
   "outputs": [],
   "source": [
    "def predict(i,j):\n",
    "    return U[i,:]@V[j,:].T"
   ]
  },
  {
   "cell_type": "code",
   "execution_count": 5,
   "metadata": {},
   "outputs": [],
   "source": [
    "def predictc(i,k):\n",
    "    return U[i,:]@Z[k,:].T"
   ]
  },
  {
   "cell_type": "code",
   "execution_count": 6,
   "metadata": {},
   "outputs": [],
   "source": [
    "# consider confidence of social network\n",
    "\n",
    "def convert_confidence(G):\n",
    "    C=np.zeros((num_user,num_user))\n",
    "    for i in range(num_user):\n",
    "        for k in range(num_user):\n",
    "            d_minus=np.count_nonzero(G[:,k])\n",
    "            d_plus=np.count_nonzero(G[i,])\n",
    "            C[i,k]=(d_minus/(d_minus+d_plus))**(0.5)*G[i,k]\n",
    "    return C"
   ]
  },
  {
   "cell_type": "code",
   "execution_count": 7,
   "metadata": {},
   "outputs": [],
   "source": [
    "C=convert_confidence(G)"
   ]
  },
  {
   "cell_type": "code",
   "execution_count": 8,
   "metadata": {},
   "outputs": [],
   "source": [
    "def g(x):\n",
    "    return 1/(1+np.exp(-x))\n",
    "def g_prime(x):\n",
    "    return np.exp(x)/(1+np.exp(x))**2"
   ]
  },
  {
   "cell_type": "code",
   "execution_count": 9,
   "metadata": {},
   "outputs": [],
   "source": [
    "# restrict ratings to [0,1]\n",
    "\n",
    "def restrict(R):\n",
    "    for i in range(num_user):\n",
    "        for j in range(num_item):\n",
    "            if R[i,j]!=0:\n",
    "                R[i,j]=(R[i,j]-1)/4\n",
    "    return R"
   ]
  },
  {
   "cell_type": "code",
   "execution_count": 10,
   "metadata": {},
   "outputs": [],
   "source": [
    "# reconstruct ratings\n",
    "\n",
    "def f_inv(x):\n",
    "    return 4*x+1"
   ]
  },
  {
   "cell_type": "code",
   "execution_count": 11,
   "metadata": {},
   "outputs": [],
   "source": [
    "R_res=restrict(R)"
   ]
  },
  {
   "cell_type": "code",
   "execution_count": 12,
   "metadata": {},
   "outputs": [],
   "source": [
    "def sum_vj(i):\n",
    "    result=0\n",
    "    for j in range(num_item):\n",
    "        if R[i,j]>0:\n",
    "            r=predict(i,j)\n",
    "            result+=g_prime(r)*(g(r)-R_res[i,j])*V[j,:]\n",
    "            \n",
    "    return result\n",
    "\n",
    "def sum_zk(i):\n",
    "    result=0\n",
    "    for k in range(num_user):\n",
    "        if G[i,k]>0:\n",
    "            r=predictc(i,k)\n",
    "            result+=g_prime(r)*(g(r)-C[i,k])*Z[k,:]\n",
    "    return result\n",
    "\n",
    "def sum_ui1(j):\n",
    "    result=0\n",
    "    for i in range(num_user):\n",
    "        if R[i,j]>0:\n",
    "            r=predict(i,j)\n",
    "            result+=g_prime(r)*(g(r)-R_res[i,j])*U[i,:]\n",
    "            \n",
    "    return result\n",
    "\n",
    "def sum_ui2(k):\n",
    "    result=0\n",
    "    for i in range(num_user):\n",
    "        if G[i,k]>0:\n",
    "            r=predictc(i,k)\n",
    "            result+=g_prime(r)*(g(r)-C[i,k])*U[i,:]\n",
    "            \n",
    "    return result"
   ]
  },
  {
   "cell_type": "code",
   "execution_count": 13,
   "metadata": {},
   "outputs": [],
   "source": [
    "samples=[(i,j,k) for i in range(num_user) for j in range(num_item) for k in range(num_user)]"
   ]
  },
  {
   "cell_type": "code",
   "execution_count": 14,
   "metadata": {},
   "outputs": [],
   "source": [
    "# initialize\n",
    "\n",
    "U=np.random.rand(num_user,dim)/np.sqrt(dim)\n",
    "V=np.random.rand(num_item,dim)/np.sqrt(dim)\n",
    "Z=np.random.rand(num_user,dim)/np.sqrt(dim)"
   ]
  },
  {
   "cell_type": "code",
   "execution_count": 15,
   "metadata": {},
   "outputs": [],
   "source": [
    "# train\n",
    "\n",
    "for epoch in range(100):\n",
    "    for i,j,k in samples:\n",
    "        U[i,:]-=0.001*(sum_vj(i)+0.01*sum_zk(i)+0.01*U[i,:])\n",
    "        V[j,:]-=0.001*(sum_ui1(j)+0.01*V[j,:])\n",
    "        Z[k,:]-=0.001*(0.01*sum_ui2(k)+0.01*Z[k,:])"
   ]
  },
  {
   "cell_type": "code",
   "execution_count": 16,
   "metadata": {},
   "outputs": [
    {
     "data": {
      "text/plain": [
       "array([[4.7 , 1.36, 1.67, 2.15, 3.6 , 2.43, 1.88, 4.07],\n",
       "       [4.65, 1.4 , 1.82, 2.03, 3.69, 2.35, 1.92, 4.01],\n",
       "       [3.47, 1.23, 1.28, 1.67, 2.66, 2.24, 1.39, 3.19],\n",
       "       [1.71, 1.09, 1.08, 1.36, 1.49, 1.29, 1.07, 1.63],\n",
       "       [5.33, 1.36, 1.47, 2.46, 3.75, 2.72, 1.94, 4.64],\n",
       "       [4.92, 1.4 , 1.82, 1.99, 3.92, 2.73, 1.86, 4.32]])"
      ]
     },
     "execution_count": 16,
     "metadata": {},
     "output_type": "execute_result"
    }
   ],
   "source": [
    "np.round(f_inv(U@V.T),2)"
   ]
  }
 ],
 "metadata": {
  "kernelspec": {
   "display_name": "Python 3",
   "language": "python",
   "name": "python3"
  },
  "language_info": {
   "codemirror_mode": {
    "name": "ipython",
    "version": 3
   },
   "file_extension": ".py",
   "mimetype": "text/x-python",
   "name": "python",
   "nbconvert_exporter": "python",
   "pygments_lexer": "ipython3",
   "version": "3.8.5"
  }
 },
 "nbformat": 4,
 "nbformat_minor": 4
}
