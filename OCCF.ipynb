{
 "cells": [
  {
   "cell_type": "markdown",
   "metadata": {},
   "source": [
    "## OCCF"
   ]
  },
  {
   "cell_type": "code",
   "execution_count": 1,
   "metadata": {},
   "outputs": [],
   "source": [
    "import numpy as np\n",
    "import pandas as pd\n",
    "from matplotlib import pyplot as plt"
   ]
  },
  {
   "cell_type": "code",
   "execution_count": 4,
   "metadata": {},
   "outputs": [],
   "source": [
    "# Import data\n",
    "\n",
    "# Training Data\n",
    "df_train=pd.read_csv('./ua.base',sep='\\t',header=None,engine='python')\n",
    "\n",
    "# Test Data\n",
    "df_test=pd.read_csv('./ua.test',sep='\\t',header=None,engine='python')"
   ]
  },
  {
   "cell_type": "code",
   "execution_count": 5,
   "metadata": {},
   "outputs": [],
   "source": [
    "num_user=943\n",
    "num_item=1682"
   ]
  },
  {
   "cell_type": "code",
   "execution_count": 6,
   "metadata": {},
   "outputs": [],
   "source": [
    "# user-item matrix\n",
    "def rating_matrix(df):\n",
    "    R=np.zeros((num_user,num_item))\n",
    "    df.columns=['user_id','item_id','rating','timestamp']\n",
    "    for index in range(len(df)):\n",
    "        u=df['user_id'][index]-1\n",
    "        i=df['item_id'][index]-1\n",
    "        R[u,i]=df['rating'][index]\n",
    "    return R"
   ]
  },
  {
   "cell_type": "code",
   "execution_count": 7,
   "metadata": {},
   "outputs": [],
   "source": [
    "# preference matrix\n",
    "def preference_matrix(R):\n",
    "    P=np.zeros((num_user,num_item))\n",
    "    for i in range(num_user):\n",
    "        for j in range(num_item):\n",
    "            if R[i,j]>0:\n",
    "                P[i,j]=1\n",
    "    return P"
   ]
  },
  {
   "cell_type": "code",
   "execution_count": 8,
   "metadata": {},
   "outputs": [],
   "source": [
    "# confidence matrix\n",
    "def confidence_matrix(R):\n",
    "    C=np.zeros((num_user,num_item))\n",
    "    for i in range(num_user):\n",
    "        for j in range(num_item):\n",
    "            C[i,j]=1+40*R[i,j]\n",
    "    return C"
   ]
  },
  {
   "cell_type": "code",
   "execution_count": 9,
   "metadata": {},
   "outputs": [],
   "source": [
    "# Transform dataframe to matrix\n",
    "R_train=rating_matrix(df_train) # Training Data\n",
    "P_train=preference_matrix(R_train) # Training Data\n",
    "C_train=confidence_matrix(R_train) # Training Data\n",
    "\n",
    "R_test=rating_matrix(df_test) # Test Data\n",
    "P_test=preference_matrix(R_test) # Test Data"
   ]
  },
  {
   "cell_type": "code",
   "execution_count": 35,
   "metadata": {},
   "outputs": [],
   "source": [
    "def percent(i,j,A):\n",
    "    index=[k for k in range(num_item) if R_train[i,k]==0]\n",
    "    lst=[]\n",
    "    for k in index:\n",
    "        lst.append(A[i,k])\n",
    "    lst_sort=sorted(lst)\n",
    "    return 1-(lst_sort.index(A[i,j])/len(lst_sort))"
   ]
  },
  {
   "cell_type": "code",
   "execution_count": 36,
   "metadata": {},
   "outputs": [],
   "source": [
    "# evaluation method: rank\n",
    "def rank(T,R):\n",
    "    sum_rating=0\n",
    "    rank=0\n",
    "    for i in range(num_user):\n",
    "        for j in range(num_item):\n",
    "            if T[i,j]!=0:\n",
    "                sum_rating+=T[i,j]\n",
    "                rank+=T[i,j]*percent(i,j,R)\n",
    "    return rank/sum_rating"
   ]
  },
  {
   "cell_type": "code",
   "execution_count": 37,
   "metadata": {},
   "outputs": [],
   "source": [
    "# initial values\n",
    "rank_occf=[]\n",
    "K=30\n",
    "X=np.random.normal(scale=1.0/K,size=(num_user,K))\n",
    "Y=np.random.normal(scale=1.0/K,size=(num_item,K))"
   ]
  },
  {
   "cell_type": "code",
   "execution_count": 38,
   "metadata": {},
   "outputs": [],
   "source": [
    "for epoch in range(100):\n",
    "    for u in range(num_user):\n",
    "        C=np.zeros((num_item,num_item))\n",
    "        for i in range(num_item):\n",
    "            C[i,i]=C_train[u,i]\n",
    "        X[u,:]=np.linalg.solve(Y.T@C@Y+0.002*np.eye(K),Y.T@C@P_train[u,:].T)\n",
    "    for i in range(num_item):\n",
    "        C=np.zeros((num_user,num_user))\n",
    "        for u in range(num_user):\n",
    "            C[u,u]=C_train[u,i]\n",
    "        Y[i,:]=np.linalg.solve(X.T@C@X+0.002*np.eye(K),X.T@C@P_train[:,i])\n",
    "    rank_occf.append(rank(R_test,X@Y.T))"
   ]
  },
  {
   "cell_type": "code",
   "execution_count": 39,
   "metadata": {},
   "outputs": [
    {
     "name": "stdout",
     "output_type": "stream",
     "text": [
      "rank of OCCF:  0.08710765934065061\n"
     ]
    }
   ],
   "source": [
    "print('rank of OCCF: ',rank(R_test,X@Y.T))"
   ]
  },
  {
   "cell_type": "code",
   "execution_count": 40,
   "metadata": {},
   "outputs": [
    {
     "data": {
      "image/png": "[encoded data removed]",
      "text/plain": [
       "<Figure size 432x288 with 1 Axes>"
      ]
     },
     "metadata": {
      "needs_background": "light"
     },
     "output_type": "display_data"
    }
   ],
   "source": [
    "# plot\n",
    "epoch=[i for i in range(100)]\n",
    "plt.plot(epoch,rank_occf,'b') # rank plot for OCCF\n",
    "plt.xlabel('epoch')\n",
    "plt.ylabel('rank')\n",
    "plt.title('OCCF')\n",
    "plt.show()"
   ]
  }
 ],
 "metadata": {
  "kernelspec": {
   "display_name": "Python 3",
   "language": "python",
   "name": "python3"
  },
  "language_info": {
   "codemirror_mode": {
    "name": "ipython",
    "version": 3
   },
   "file_extension": ".py",
   "mimetype": "text/x-python",
   "name": "python",
   "nbconvert_exporter": "python",
   "pygments_lexer": "ipython3",
   "version": "3.7.4"
  }
 },
 "nbformat": 4,
 "nbformat_minor": 4
}
