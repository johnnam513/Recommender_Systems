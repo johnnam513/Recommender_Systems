{
 "cells": [
  {
   "cell_type": "markdown",
   "metadata": {},
   "source": [
    "## Netflix"
   ]
  },
  {
   "cell_type": "code",
   "execution_count": 1,
   "metadata": {},
   "outputs": [],
   "source": [
    "import numpy as np\n",
    "import pandas as pd\n",
    "from matplotlib import pyplot as plt"
   ]
  },
  {
   "cell_type": "code",
   "execution_count": 2,
   "metadata": {},
   "outputs": [],
   "source": [
    "# Import data\n",
    "\n",
    "# Training Data\n",
    "df_train=pd.read_csv('./ua.base',sep='\\t',header=None,engine='python')\n",
    "\n",
    "# Test Data\n",
    "df_test=pd.read_csv('./ua.test',sep='\\t',header=None,engine='python')"
   ]
  },
  {
   "cell_type": "code",
   "execution_count": 3,
   "metadata": {},
   "outputs": [],
   "source": [
    "num_user=943\n",
    "num_item=1682"
   ]
  },
  {
   "cell_type": "code",
   "execution_count": 4,
   "metadata": {},
   "outputs": [],
   "source": [
    "# user-item matrix\n",
    "def rating_matrix(df):\n",
    "    R=np.zeros((num_user,num_item))\n",
    "    df.columns=['user_id','item_id','rating','timestamp']\n",
    "    for index in range(len(df)):\n",
    "        u=df['user_id'][index]-1\n",
    "        i=df['item_id'][index]-1\n",
    "        R[u,i]=df['rating'][index]\n",
    "    return R"
   ]
  },
  {
   "cell_type": "code",
   "execution_count": 5,
   "metadata": {},
   "outputs": [],
   "source": [
    "# evaluation using RMSE\n",
    "# Test Set에서 rating이 이루어진 항목들에 대해 rmse 계산\n",
    "def rmse(A,B):\n",
    "    num_rating=0\n",
    "    rmse=0\n",
    "    for i in range(num_user):\n",
    "        for j in range(num_item):\n",
    "            if A[i,j]>0:\n",
    "                rmse+=(A[i,j]-B[i,j])**2\n",
    "                num_rating+=1\n",
    "    return (rmse/num_rating)**(0.5)"
   ]
  },
  {
   "cell_type": "code",
   "execution_count": 6,
   "metadata": {},
   "outputs": [],
   "source": [
    "# Transform dataframe to user-item matrix\n",
    "R_train=rating_matrix(df_train) # Training Data\n",
    "R_test=rating_matrix(df_test) # Test Data"
   ]
  },
  {
   "cell_type": "code",
   "execution_count": 7,
   "metadata": {},
   "outputs": [],
   "source": [
    "# rating function for basic matrix factorization\n",
    "def rating1(i,j):\n",
    "    return P[i,:]@Q[j,:].T\n",
    "\n",
    "# rating function for matrix factorization considering bias\n",
    "def rating2(i,j):\n",
    "    return b+b_u[i]+b_i[j]+P[i,:]@Q[j,:].T\n",
    "\n",
    "# rating function for neighborhood method\n",
    "def rating3(i,j):\n",
    "    sum_weight=0\n",
    "    for k in R_set(i):\n",
    "        sum_weight+=(R_train[i,k]-b-b_u[i]-b_i[k])*W[j,k]\n",
    "    return b+b_u[i]+b_i[j]+sum_weight/(len(R_set(i))**(0.5))"
   ]
  },
  {
   "cell_type": "code",
   "execution_count": 8,
   "metadata": {},
   "outputs": [],
   "source": [
    "# training procedure: basic matrix factorization\n",
    "\n",
    "rmse_plain=[]\n",
    "K=30 # number of latent factors\n",
    "P=np.random.normal(scale=1.0/K,size=(num_user,K)) # user vector\n",
    "Q=np.random.normal(scale=1.0/K,size=(num_item,K)) # item vector\n",
    "\n",
    "# sample where rating is given in training data\n",
    "samples=[(i,j,R_train[i,j]) for i in range(num_user) for j in range(num_item) if R_train[i,j]>0]\n",
    "\n",
    "# train\n",
    "for epoch in range(60):\n",
    "    for i,j,r in samples:\n",
    "        prediction=rating1(i,j)\n",
    "        e=r-prediction        \n",
    "        P[i,:]+=0.001*(e*Q[j,:]-0.01*P[i,:])\n",
    "        Q[j,:]+=0.001*(e*P[i,:]-0.01*Q[j,:])\n",
    "    R_result1=np.rint(P@Q.T)\n",
    "    rmse_plain.append(rmse(R_test,R_result1))"
   ]
  },
  {
   "cell_type": "code",
   "execution_count": 9,
   "metadata": {},
   "outputs": [
    {
     "data": {
      "image/png": "[encoded data removed]",
      "text/plain": [
       "<Figure size 432x288 with 1 Axes>"
      ]
     },
     "metadata": {
      "needs_background": "light"
     },
     "output_type": "display_data"
    }
   ],
   "source": [
    "# plot\n",
    "epoch=[i for i in range(60)]\n",
    "plt.plot(epoch,rmse_plain,'r') # rmse plot for basic model\n",
    "plt.xlabel('epoch')\n",
    "plt.ylabel('rmse')\n",
    "plt.title('basic model')\n",
    "plt.show()"
   ]
  },
  {
   "cell_type": "code",
   "execution_count": 10,
   "metadata": {},
   "outputs": [],
   "source": [
    "# training procedure: considering bias\n",
    "\n",
    "rmse_bias=[]\n",
    "K=30 # number of latent factors\n",
    "P=np.random.normal(scale=1.0/K,size=(num_user,K)) # user vector\n",
    "Q=np.random.normal(scale=1.0/K,size=(num_item,K)) # item vector\n",
    "b_u=np.zeros(num_user) # user bias\n",
    "b_i=np.zeros(num_item) # item bias\n",
    "b=np.mean(R_train[np.where(R_train!=0)]) # average rating\n",
    "\n",
    "# sample where rating is given in training data\n",
    "samples=[(i,j,R_train[i,j]) for i in range(num_user) for j in range(num_item) if R_train[i,j]>0]\n",
    "    \n",
    "for epoch in range(60):\n",
    "    for i,j,r in samples:\n",
    "        prediction=rating2(i,j)\n",
    "        e=r-prediction\n",
    "        b_u[i]+=0.001*(e-0.01*b_u[i])\n",
    "        b_i[j]+=0.001*(e-0.01*b_i[j])\n",
    "        P[i,:]+=0.001*(e*Q[j,:]-0.01*P[i,:])\n",
    "        Q[j,:]+=0.001*(e*P[i,:]-0.01*Q[j,:])\n",
    "    R_result2=np.rint(b+b_u[:,np.newaxis]+b_i[np.newaxis:,]+P@Q.T)\n",
    "    rmse_bias.append(rmse(R_test,R_result2))"
   ]
  },
  {
   "cell_type": "code",
   "execution_count": 11,
   "metadata": {},
   "outputs": [
    {
     "data": {
      "image/png": "[encoded data removed]",
      "text/plain": [
       "<Figure size 432x288 with 1 Axes>"
      ]
     },
     "metadata": {
      "needs_background": "light"
     },
     "output_type": "display_data"
    }
   ],
   "source": [
    "# plot\n",
    "epoch=[i for i in range(60)]\n",
    "plt.plot(epoch,rmse_bias,'r') # rmse plot for bias model\n",
    "plt.xlabel('epoch')\n",
    "plt.ylabel('rmse')\n",
    "plt.title('bias model')\n",
    "plt.show()"
   ]
  },
  {
   "cell_type": "code",
   "execution_count": 12,
   "metadata": {},
   "outputs": [],
   "source": [
    "# need to define R(u) set in order to implement neighborhood model\n",
    "def R_set(i):\n",
    "    R_set=[]\n",
    "    for j in range(num_item):\n",
    "        if R_train[i,j]>0:\n",
    "            R_set.append(j)\n",
    "    return R_set"
   ]
  },
  {
   "cell_type": "code",
   "execution_count": 13,
   "metadata": {},
   "outputs": [],
   "source": [
    "# define diagonal matrix diagR for computation\n",
    "diagR=np.zeros((num_user,num_user))\n",
    "for i in range(num_user):\n",
    "    diagR[i,i]=(len(R_set(i)))**(-0.5)"
   ]
  },
  {
   "cell_type": "code",
   "execution_count": 14,
   "metadata": {},
   "outputs": [],
   "source": [
    "# training procedure: neighborhood\n",
    "\n",
    "rmse_neigh=[]\n",
    "K=30 # number of latent factors\n",
    "b_u=np.zeros(num_user) # user bias\n",
    "b_i=np.zeros(num_item) # item bias\n",
    "b=np.mean(R_train[np.where(R_train!=0)]) # average rating\n",
    "W=np.zeros((num_item,num_item)) # weight matrix\n",
    "\n",
    "for epoch in range(60):\n",
    "    try_num=0\n",
    "    for i,j,r in samples:\n",
    "        prediction=rating3(i,j)\n",
    "        e=r-prediction\n",
    "        b_u[i]+=0.001*(e-0.01*b_u[i])\n",
    "        b_i[j]+=0.001*(e-0.01*b_i[j])\n",
    "        if i==try_num:\n",
    "            for k in R_set(i):\n",
    "                W[j,k]+=0.001*(len(R_set(i))**(-0.5)*e*(R_train[i,k]-b-b_u[i]-b_i[k])-0.01*W[j,k])\n",
    "            try_num+=1\n",
    "    R_result3=b+b_u[:,np.newaxis]+b_i[np.newaxis:,]+diagR@(R_train-b-b_u[:,np.newaxis]-b_i[np.newaxis:,])@W\n",
    "    R_result3=np.rint(R_result3)\n",
    "    rmse_neigh.append(rmse(R_test,R_result3))"
   ]
  },
  {
   "cell_type": "code",
   "execution_count": 15,
   "metadata": {},
   "outputs": [
    {
     "data": {
      "image/png": "[encoded data removed]",
      "text/plain": [
       "<Figure size 432x288 with 1 Axes>"
      ]
     },
     "metadata": {
      "needs_background": "light"
     },
     "output_type": "display_data"
    }
   ],
   "source": [
    "# plot\n",
    "epoch=[i for i in range(60)]\n",
    "plt.plot(epoch,rmse_neigh,'r') # rmse plot for neighborhood model\n",
    "plt.xlabel('epoch')\n",
    "plt.ylabel('rmse')\n",
    "plt.title('neighborhood model')\n",
    "plt.show()"
   ]
  },
  {
   "cell_type": "code",
   "execution_count": 16,
   "metadata": {},
   "outputs": [
    {
     "name": "stdout",
     "output_type": "stream",
     "text": [
      "rmse of basic model:  1.0524424957150156\n",
      "rmse of bias model:  1.0\n",
      "rmse of neighborhood model:  1.004813441899674\n"
     ]
    },
    {
     "data": {
      "image/png": "[encoded data removed]",
      "text/plain": [
       "<Figure size 432x288 with 1 Axes>"
      ]
     },
     "metadata": {
      "needs_background": "light"
     },
     "output_type": "display_data"
    }
   ],
   "source": [
    "# compare rmse\n",
    "print(\"rmse of basic model: \",min(rmse_plain))\n",
    "print(\"rmse of bias model: \",min(rmse_bias))\n",
    "print(\"rmse of neighborhood model: \",min(rmse_neigh))\n",
    "\n",
    "# plot together\n",
    "epoch=[i for i in range(60)]\n",
    "plt.plot(epoch,rmse_plain,'r') # rmse plot for basic model\n",
    "plt.plot(epoch,rmse_bias,'g') # rmse plot for bias model\n",
    "plt.plot(epoch,rmse_neigh,'b') # rmse plot for neighborhood model\n",
    "plt.xlabel('epoch')\n",
    "plt.ylabel('rmse')\n",
    "plt.legend(['plain','using bias','neighborhood'])\n",
    "plt.title('Neflix')\n",
    "plt.show()"
   ]
  }
 ],
 "metadata": {
  "kernelspec": {
   "display_name": "Python 3",
   "language": "python",
   "name": "python3"
  },
  "language_info": {
   "codemirror_mode": {
    "name": "ipython",
    "version": 3
   },
   "file_extension": ".py",
   "mimetype": "text/x-python",
   "name": "python",
   "nbconvert_exporter": "python",
   "pygments_lexer": "ipython3",
   "version": "3.8.5"
  }
 },
 "nbformat": 4,
 "nbformat_minor": 4
}
