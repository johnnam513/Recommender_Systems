{
 "cells": [
  {
   "cell_type": "markdown",
   "metadata": {},
   "source": [
    "## SoReg"
   ]
  },
  {
   "cell_type": "code",
   "execution_count": 1,
   "metadata": {},
   "outputs": [],
   "source": [
    "import numpy as np"
   ]
  },
  {
   "cell_type": "code",
   "execution_count": 2,
   "metadata": {},
   "outputs": [],
   "source": [
    "# toy data\n",
    "\n",
    "G=np.array([[0.0,0.0,0.0,0.0,0.0,0.0],\n",
    "            [0.0,0.0,0.0,1.0,0.0,0.8],\n",
    "            [0.8,0.0,0.0,0.0,0.0,0.0],\n",
    "            [0.8,1.0,0.0,0.0,0.6,0.0],\n",
    "            [0.0,0.0,0.4,0.0,0.0,0.8],\n",
    "            [0.0,0.0,0.0,0.0,0.0,0.0]])\n",
    "\n",
    "R=np.array([[5.0,2.0,0.0,3.0,0.0,4.0,0.0,0.0],\n",
    "            [4.0,3.0,0.0,0.0,5.0,0.0,0.0,0.0],\n",
    "            [4.0,0.0,2.0,0.0,0.0,0.0,2.0,4.0],\n",
    "            [0.0,0.0,0.0,0.0,0.0,0.0,0.0,0.0],\n",
    "            [5.0,1.0,2.0,0.0,4.0,3.0,0.0,0.0],\n",
    "            [4.0,3.0,0.0,2.0,4.0,0.0,3.0,5.0]])"
   ]
  },
  {
   "cell_type": "code",
   "execution_count": 3,
   "metadata": {},
   "outputs": [],
   "source": [
    "num_user=6\n",
    "num_item=8\n",
    "dim=5"
   ]
  },
  {
   "cell_type": "code",
   "execution_count": 4,
   "metadata": {},
   "outputs": [],
   "source": [
    "def predict(i,j):\n",
    "    return U[i,:]@V[j,:].T"
   ]
  },
  {
   "cell_type": "code",
   "execution_count": 14,
   "metadata": {},
   "outputs": [],
   "source": [
    "def sim(i,f):\n",
    "    sum1=0\n",
    "    sum2=0\n",
    "    sum3=0\n",
    "    for j in range(num_item):\n",
    "        if (j in np.nonzero(R[i,:])[0])&(j in np.nonzero(R[f,:])[0]):\n",
    "            sum1+=R[i,j]*R[f,j]\n",
    "            sum2+=R[i,j]**2\n",
    "            sum3+=R[f,j]**2\n",
    "    if sum2*sum3>0:\n",
    "        return sum1/np.sqrt(sum2*sum3)\n",
    "    else:\n",
    "        return 0"
   ]
  },
  {
   "cell_type": "code",
   "execution_count": 10,
   "metadata": {},
   "outputs": [],
   "source": [
    "def sum_vj(i):\n",
    "    result=0\n",
    "    for j in range(num_item):\n",
    "        if R[i,j]>0:\n",
    "            result+=(predict(i,j)-R[i,j])*V[j,:]\n",
    "    return result\n",
    "\n",
    "def sum_uif(i):\n",
    "    result=0\n",
    "    for f in range(num_user):\n",
    "        if f in np.nonzero(G[i,:])[0]:\n",
    "            result=+sim(i,f)*(U[i,:]-U[f,:])\n",
    "    return result\n",
    "\n",
    "def sum_uig(i):\n",
    "    result=0\n",
    "    for g in range(num_user):\n",
    "        if g in np.nonzero(G[:,i])[0]:\n",
    "            result+=sim(i,g)*(U[i,:]-U[g,:])\n",
    "    return result\n",
    "\n",
    "def sum_ui(j):\n",
    "    result=0\n",
    "    for i in range(num_user):\n",
    "        if R[i,j]>0:\n",
    "            result+=(predict(i,j)-R[i,j])*U[i,:]\n",
    "    return result"
   ]
  },
  {
   "cell_type": "code",
   "execution_count": 15,
   "metadata": {},
   "outputs": [],
   "source": [
    "samples=[(i,j) for i in range(num_user) for j in range(num_item)]"
   ]
  },
  {
   "cell_type": "code",
   "execution_count": 16,
   "metadata": {},
   "outputs": [],
   "source": [
    "# initialize\n",
    "\n",
    "U=np.random.rand(num_user,dim)/np.sqrt(dim)\n",
    "V=np.random.rand(num_item,dim)/np.sqrt(dim)\n",
    "Z=np.random.rand(num_user,dim)/np.sqrt(dim)"
   ]
  },
  {
   "cell_type": "code",
   "execution_count": 17,
   "metadata": {},
   "outputs": [],
   "source": [
    "# train\n",
    "\n",
    "for epoch in range(100):\n",
    "    for i,j in samples:\n",
    "        U[i,:]-=0.001*(sum_vj(i)+0.01*U[i,:]+0.01*sum_uif(i)+0.01*sum_uig(i))\n",
    "        V[j,:]-=0.001*(sum_ui(j)+0.01*V[j,:])"
   ]
  },
  {
   "cell_type": "code",
   "execution_count": 19,
   "metadata": {},
   "outputs": [
    {
     "data": {
      "text/plain": [
       "array([[5.  , 2.35, 2.45, 2.76, 4.91, 3.89, 2.93, 5.26],\n",
       "       [4.56, 2.42, 2.32, 2.55, 4.67, 3.66, 2.78, 4.98],\n",
       "       [3.81, 1.93, 1.91, 2.04, 3.72, 2.96, 2.3 , 4.07],\n",
       "       [1.3 , 0.53, 0.62, 0.78, 1.32, 0.98, 0.71, 1.27],\n",
       "       [4.33, 1.85, 2.05, 2.34, 4.11, 3.13, 2.37, 4.27],\n",
       "       [4.2 , 2.44, 2.2 , 2.25, 4.25, 3.5 , 2.72, 4.86]])"
      ]
     },
     "execution_count": 19,
     "metadata": {},
     "output_type": "execute_result"
    }
   ],
   "source": [
    "np.round(U@V.T,2)"
   ]
  }
 ],
 "metadata": {
  "kernelspec": {
   "display_name": "Python 3",
   "language": "python",
   "name": "python3"
  },
  "language_info": {
   "codemirror_mode": {
    "name": "ipython",
    "version": 3
   },
   "file_extension": ".py",
   "mimetype": "text/x-python",
   "name": "python",
   "nbconvert_exporter": "python",
   "pygments_lexer": "ipython3",
   "version": "3.8.5"
  }
 },
 "nbformat": 4,
 "nbformat_minor": 4
}
